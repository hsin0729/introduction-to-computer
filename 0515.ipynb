{
  "nbformat": 4,
  "nbformat_minor": 0,
  "metadata": {
    "colab": {
      "provenance": [],
      "authorship_tag": "ABX9TyNOt70CZXWJ4tE9MYNxnyjw",
      "include_colab_link": true
    },
    "kernelspec": {
      "name": "python3",
      "display_name": "Python 3"
    },
    "language_info": {
      "name": "python"
    }
  },
  "cells": [
    {
      "cell_type": "markdown",
      "metadata": {
        "id": "view-in-github",
        "colab_type": "text"
      },
      "source": [
        "<a href=\"https://colab.research.google.com/github/hsin0729/introduction-to-computer/blob/main/0515.ipynb\" target=\"_parent\"><img src=\"https://colab.research.google.com/assets/colab-badge.svg\" alt=\"Open In Colab\"/></a>"
      ]
    },
    {
      "cell_type": "code",
      "execution_count": null,
      "metadata": {
        "colab": {
          "base_uri": "https://localhost:8080/"
        },
        "id": "jwQaDAoRQo5-",
        "outputId": "05948d00-9d96-4868-e8bd-c059c5c86f0b"
      },
      "outputs": [
        {
          "output_type": "stream",
          "name": "stdout",
          "text": [
            "0515\n"
          ]
        }
      ],
      "source": [
        "print(\"0515\")"
      ]
    },
    {
      "cell_type": "code",
      "source": [
        " rain = str(input(\"今天會下雨嗎?\"))\n",
        " if (rain==\"y\" or rain==\"Y\"):\n",
        "  print(\"出門記得帶傘!\")\n",
        " elif (rain==\"n\" or rain==\"N\"):\n",
        "  print(\"今天天氣很好，出門不用帶傘\")\n",
        " else:\n",
        "    print(\"輸入錯誤\")"
      ],
      "metadata": {
        "id": "mOmjjPQqRL5O",
        "colab": {
          "base_uri": "https://localhost:8080/"
        },
        "outputId": "6ada8654-d41e-405c-a3d3-58e0835aaaf0"
      },
      "execution_count": 37,
      "outputs": [
        {
          "output_type": "stream",
          "name": "stdout",
          "text": [
            "今天會下雨嗎?y\n",
            "出門記得帶傘!\n"
          ]
        }
      ]
    },
    {
      "cell_type": "code",
      "source": [
        " rain = str(input(\"今天會下雨嗎?\"))\n",
        " if (rain==\"y\" or rain==\"Y\"):\n",
        "  print(\"出門記得帶傘!\")\n",
        " elif (rain==\"n\" or rain==\"N\"):\n",
        "  print(\"今天天氣很好，出門不用帶傘\")\n",
        " else:\n",
        "    print(\"輸入錯誤\")"
      ],
      "metadata": {
        "colab": {
          "base_uri": "https://localhost:8080/"
        },
        "id": "DQ2KhJvjTtax",
        "outputId": "b820e446-a5a2-403c-8511-66eb7b04630a"
      },
      "execution_count": 36,
      "outputs": [
        {
          "output_type": "stream",
          "name": "stdout",
          "text": [
            "今天會下雨嗎?n\n",
            "今天天氣很好，出門不用帶傘\n"
          ]
        }
      ]
    },
    {
      "cell_type": "code",
      "source": [
        " rain = str(input(\"今天會下雨嗎?\"))\n",
        " if (rain==\"y\" or rain==\"Y\"):\n",
        "  print(\"出門記得帶傘!\")\n",
        " elif (rain==\"n\" or rain==\"N\"):\n",
        "  print(\"今天天氣很好，出門不用帶傘\")\n",
        " else:\n",
        "    print(\"輸入錯誤\")"
      ],
      "metadata": {
        "colab": {
          "base_uri": "https://localhost:8080/"
        },
        "id": "E65SWGB3Txxv",
        "outputId": "e931184b-3972-45da-9f2d-762366f14b7a"
      },
      "execution_count": 15,
      "outputs": [
        {
          "output_type": "stream",
          "name": "stdout",
          "text": [
            "今天會下雨嗎?a\n",
            "輸入錯誤\n"
          ]
        }
      ]
    },
    {
      "cell_type": "code",
      "source": [
        "T = float(input(\"請輸入體溫:\"))\n",
        "if (T>=37.5):\n",
        "  print(\"體溫過高!\")\n",
        "elif (T<37.5 and T>=37):\n",
        "  print(\"體溫略高!\")\n",
        "elif (T>=34 and T<37):\n",
        "  print(\"體溫正常!\")\n",
        "else:\n",
        "  print(\"體溫異常，請重新量測!\")"
      ],
      "metadata": {
        "colab": {
          "base_uri": "https://localhost:8080/"
        },
        "id": "oGzPFgokVT2H",
        "outputId": "f571a0f5-0ffe-4237-b97f-a3120a0b4662"
      },
      "execution_count": 22,
      "outputs": [
        {
          "output_type": "stream",
          "name": "stdout",
          "text": [
            "請輸入體溫:38\n",
            "體溫過高!\n"
          ]
        }
      ]
    },
    {
      "cell_type": "code",
      "source": [
        "T = float(input(\"請輸入體溫:\"))\n",
        "if (T>=37.5):\n",
        "  print(\"體溫過高!\")\n",
        "elif (T<37.5 and T>=37):\n",
        "  print(\"體溫略高!\")\n",
        "elif (T>=34 and T<37):\n",
        "  print(\"體溫正常!\")\n",
        "else:\n",
        "  print(\"體溫異常，請重新量測!\")"
      ],
      "metadata": {
        "colab": {
          "base_uri": "https://localhost:8080/"
        },
        "id": "KHKmIqMtXxG-",
        "outputId": "afb10d1c-a448-4f60-9611-030f8ab8eaba"
      },
      "execution_count": 21,
      "outputs": [
        {
          "output_type": "stream",
          "name": "stdout",
          "text": [
            "請輸入體溫:37\n",
            "體溫略高!\n"
          ]
        }
      ]
    },
    {
      "cell_type": "code",
      "source": [
        "T = float(input(\"請輸入體溫:\"))\n",
        "if (T>=37.5):\n",
        "  print(\"體溫過高!\")\n",
        "elif (T<37.5 and T>=37):\n",
        "  print(\"體溫略高!\")\n",
        "elif (T>=34 and T<37):\n",
        "  print(\"體溫正常!\")\n",
        "else:\n",
        "  print(\"體溫異常，請重新量測!\")"
      ],
      "metadata": {
        "colab": {
          "base_uri": "https://localhost:8080/"
        },
        "id": "xYppMGEDX2k7",
        "outputId": "a865dea3-cff1-4e33-d078-9dc118df0a4a"
      },
      "execution_count": 19,
      "outputs": [
        {
          "output_type": "stream",
          "name": "stdout",
          "text": [
            "請輸入體溫:34\n",
            "體溫正常!\n"
          ]
        }
      ]
    },
    {
      "cell_type": "code",
      "source": [
        "T = float(input(\"請輸入體溫:\"))\n",
        "if (T>=37.5):\n",
        "  print(\"體溫過高!\")\n",
        "elif (T<37.5 and T>=37):\n",
        "  print(\"體溫略高!\")\n",
        "elif (T>=34 and T<37):\n",
        "  print(\"體溫正常!\")\n",
        "else:\n",
        "  print(\"體溫異常，請重新量測!\")"
      ],
      "metadata": {
        "colab": {
          "base_uri": "https://localhost:8080/"
        },
        "id": "LCsOPQepYS2U",
        "outputId": "524e059e-d663-4f9d-e095-1fd993843b11"
      },
      "execution_count": 23,
      "outputs": [
        {
          "output_type": "stream",
          "name": "stdout",
          "text": [
            "請輸入體溫:30\n",
            "體溫異常，請重新量測!\n"
          ]
        }
      ]
    },
    {
      "cell_type": "code",
      "source": [
        "g = int(input(\"請輸入成績:\"))\n",
        "if (g>=90):\n",
        "  print(\"A\")\n",
        "elif (g<90 and g>=80):\n",
        "  print(\"B\")\n",
        "elif (g>=70 and g<80):\n",
        "  print(\"C\")\n",
        "elif (g>=60 and g<70):\n",
        "  print(\"D\")\n",
        "else:\n",
        "  print(\"E\")"
      ],
      "metadata": {
        "colab": {
          "base_uri": "https://localhost:8080/"
        },
        "id": "0t-rSAytYVl9",
        "outputId": "28aff625-8289-45ca-cb12-1c802e14c698"
      },
      "execution_count": 25,
      "outputs": [
        {
          "output_type": "stream",
          "name": "stdout",
          "text": [
            "請輸入成績:90\n",
            "A\n"
          ]
        }
      ]
    },
    {
      "cell_type": "code",
      "source": [
        "g = int(input(\"請輸入成績:\"))\n",
        "if (g>=90):\n",
        "  print(\"A\")\n",
        "elif (g<90 and g>=80):\n",
        "  print(\"B\")\n",
        "elif (g>=70 and g<80):\n",
        "  print(\"C\")\n",
        "elif (g>=60 and g<70):\n",
        "  print(\"D\")\n",
        "else:\n",
        "  print(\"E\")"
      ],
      "metadata": {
        "colab": {
          "base_uri": "https://localhost:8080/"
        },
        "id": "Ezt0bMLhZr-U",
        "outputId": "8b7d6bf1-e66d-4c3d-b40a-6ac97a50bfd4"
      },
      "execution_count": 26,
      "outputs": [
        {
          "output_type": "stream",
          "name": "stdout",
          "text": [
            "請輸入成績:80\n",
            "B\n"
          ]
        }
      ]
    },
    {
      "cell_type": "code",
      "source": [
        "g = int(input(\"請輸入成績:\"))\n",
        "if (g>=90):\n",
        "  print(\"A\")\n",
        "elif (g<90 and g>=80):\n",
        "  print(\"B\")\n",
        "elif (g>=70 and g<80):\n",
        "  print(\"C\")\n",
        "elif (g>=60 and g<70):\n",
        "  print(\"D\")\n",
        "else:\n",
        "  print(\"E\")"
      ],
      "metadata": {
        "colab": {
          "base_uri": "https://localhost:8080/"
        },
        "id": "IsF437y6ZvCO",
        "outputId": "9a7f684f-3633-4ce4-f2c4-e4304d0224e9"
      },
      "execution_count": 27,
      "outputs": [
        {
          "output_type": "stream",
          "name": "stdout",
          "text": [
            "請輸入成績:70\n",
            "C\n"
          ]
        }
      ]
    },
    {
      "cell_type": "code",
      "source": [
        "g = int(input(\"請輸入成績:\"))\n",
        "if (g>=90):\n",
        "  print(\"A\")\n",
        "elif (g<90 and g>=80):\n",
        "  print(\"B\")\n",
        "elif (g>=70 and g<80):\n",
        "  print(\"C\")\n",
        "elif (g>=60 and g<70):\n",
        "  print(\"D\")\n",
        "else:\n",
        "  print(\"E\")"
      ],
      "metadata": {
        "colab": {
          "base_uri": "https://localhost:8080/"
        },
        "id": "SLL6mnO3Zxov",
        "outputId": "5f2ebe7a-275d-432d-9558-c216871f9cdf"
      },
      "execution_count": 28,
      "outputs": [
        {
          "output_type": "stream",
          "name": "stdout",
          "text": [
            "請輸入成績:60\n",
            "D\n"
          ]
        }
      ]
    },
    {
      "cell_type": "code",
      "source": [
        "g = int(input(\"請輸入成績:\"))\n",
        "if (g>=90):\n",
        "  print(\"A\")\n",
        "elif (g<90 and g>=80):\n",
        "  print(\"B\")\n",
        "elif (g>=70 and g<80):\n",
        "  print(\"C\")\n",
        "elif (g>=60 and g<70):\n",
        "  print(\"D\")\n",
        "else:\n",
        "  print(\"E\")"
      ],
      "metadata": {
        "colab": {
          "base_uri": "https://localhost:8080/"
        },
        "id": "LODWdVG-Z0EL",
        "outputId": "54d9f1c7-99e7-45e7-d3bb-41be406aea4e"
      },
      "execution_count": 29,
      "outputs": [
        {
          "output_type": "stream",
          "name": "stdout",
          "text": [
            "請輸入成績:50\n",
            "E\n"
          ]
        }
      ]
    },
    {
      "cell_type": "code",
      "source": [
        "s = int(input(\"請輸入月份:\"))\n",
        "if (s==3 or s==4 or s==5):\n",
        "  print(s,\"月是春天\")\n",
        "elif (s==6 or s==7 or s==8):\n",
        "  print(s,\"月是夏天\")\n",
        "elif (s==9 or s==10 or s==11):\n",
        "  print(s,\"月是秋天\")\n",
        "elif (s==12 or s==1 or s==2):\n",
        "  print(s,\"月是冬天\")\n",
        "else:\n",
        "  print(\"月份不在範圍內\")"
      ],
      "metadata": {
        "colab": {
          "base_uri": "https://localhost:8080/"
        },
        "id": "p879QiUbZ27z",
        "outputId": "188c40a2-1d05-4f89-fbeb-a97366488d1d"
      },
      "execution_count": 34,
      "outputs": [
        {
          "output_type": "stream",
          "name": "stdout",
          "text": [
            "請輸入月份:7\n",
            "7 月是夏天\n"
          ]
        }
      ]
    },
    {
      "cell_type": "code",
      "source": [
        "s = int(input(\"請輸入月份:\"))\n",
        "if (s==3 or s==4 or s==5):\n",
        "  print(s,\"月是春天\")\n",
        "elif (s==6 or s==7 or s==8):\n",
        "  print(s,\"月是夏天\")\n",
        "elif (s==9 or s==10 or s==11):\n",
        "  print(s,\"月是秋天\")\n",
        "elif (s==12 or s==1 or s==2):\n",
        "  print(s,\"月是冬天\")\n",
        "else:\n",
        "  print(\"月份不在範圍內\")"
      ],
      "metadata": {
        "colab": {
          "base_uri": "https://localhost:8080/"
        },
        "id": "HvT81NNcbghT",
        "outputId": "65770e79-eccf-431e-cb13-f5237a9e5a0b"
      },
      "execution_count": 35,
      "outputs": [
        {
          "output_type": "stream",
          "name": "stdout",
          "text": [
            "請輸入月份:29\n",
            "月份不在範圍內\n"
          ]
        }
      ]
    },
    {
      "cell_type": "code",
      "source": [
        "income = int(input(\"請輸入今年收入淨額:\"))\n",
        "if (income>=2000000):\n",
        "  tax = income*0.3\n",
        "  print(\"付稅金額:\",tax,\"元\")\n",
        "elif (income<2000000 and income>=1000000):\n",
        "  tax = income*0.21\n",
        "  print(\"付稅金額:\",tax,\"元\")\n",
        "elif (income>=600000 and income<1000000):\n",
        "  tax = income*0.13\n",
        "  print(\"付稅金額:\",tax,\"元\")\n",
        "elif (income>=300000 and income<600000):\n",
        "  tax = income*0.06\n",
        "  print(\"付稅金額:\",tax,\"元\")\n",
        "else :\n",
        "  print(\"付稅金額為0元\")"
      ],
      "metadata": {
        "colab": {
          "base_uri": "https://localhost:8080/"
        },
        "id": "LLmYLk5cbjec",
        "outputId": "bb4c9daf-a22c-4a8d-ce92-68e4b902a41a"
      },
      "execution_count": 44,
      "outputs": [
        {
          "output_type": "stream",
          "name": "stdout",
          "text": [
            "請輸入今年收入淨額:2000000\n",
            "付稅金額: 600000.0 元\n"
          ]
        }
      ]
    },
    {
      "cell_type": "code",
      "source": [
        "income = int(input(\"請輸入今年收入淨額:\"))\n",
        "if (income>=2000000):\n",
        "  tax = income*0.3\n",
        "  print(\"付稅金額:\",tax,\"元\")\n",
        "elif (income<2000000 and income>=1000000):\n",
        "  tax = income*0.21\n",
        "  print(\"付稅金額:\",tax,\"元\")\n",
        "elif (income>=600000 and income<1000000):\n",
        "  tax = income*0.13\n",
        "  print(\"付稅金額:\",tax,\"元\")\n",
        "elif (income>=300000 and income<600000):\n",
        "  tax = income*0.06\n",
        "  print(\"付稅金額:\",tax,\"元\")\n",
        "else :\n",
        "  print(\"付稅金額為0元\")"
      ],
      "metadata": {
        "colab": {
          "base_uri": "https://localhost:8080/"
        },
        "id": "48wJJ5d_fTQ_",
        "outputId": "63cbb1f1-b3e7-42a9-c8c1-03c21db68ade"
      },
      "execution_count": 43,
      "outputs": [
        {
          "output_type": "stream",
          "name": "stdout",
          "text": [
            "請輸入今年收入淨額:1000000\n",
            "付稅金額: 210000.0 元\n"
          ]
        }
      ]
    },
    {
      "cell_type": "code",
      "source": [
        "income = int(input(\"請輸入今年收入淨額:\"))\n",
        "if (income>=2000000):\n",
        "  tax = income*0.3\n",
        "  print(\"付稅金額:\",tax,\"元\")\n",
        "elif (income<2000000 and income>=1000000):\n",
        "  tax = income*0.21\n",
        "  print(\"付稅金額:\",tax,\"元\")\n",
        "elif (income>=600000 and income<1000000):\n",
        "  tax = income*0.13\n",
        "  print(\"付稅金額:\",tax,\"元\")\n",
        "elif (income>=300000 and income<600000):\n",
        "  tax = income*0.06\n",
        "  print(\"付稅金額:\",tax,\"元\")\n",
        "else :\n",
        "  print(\"付稅金額為0元\")"
      ],
      "metadata": {
        "colab": {
          "base_uri": "https://localhost:8080/"
        },
        "id": "UJNhVAmYfYZs",
        "outputId": "ce4a227b-565c-44a2-aa30-287581da4b51"
      },
      "execution_count": 42,
      "outputs": [
        {
          "output_type": "stream",
          "name": "stdout",
          "text": [
            "請輸入今年收入淨額:100000\n",
            "付稅金額為0元\n"
          ]
        }
      ]
    }
  ]
}